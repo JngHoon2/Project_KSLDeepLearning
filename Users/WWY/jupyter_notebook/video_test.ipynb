{
 "cells": [
  {
   "cell_type": "code",
   "execution_count": 2,
   "id": "938aec41-3218-4931-abb2-62fc6ac224c0",
   "metadata": {},
   "outputs": [],
   "source": [
    "import numpy as np\n",
    "import pandas as pd"
   ]
  },
  {
   "cell_type": "code",
   "execution_count": 3,
   "id": "e12ab51e-4e9e-45f3-a3e1-3595e05cf89c",
   "metadata": {},
   "outputs": [],
   "source": [
    "from tensorflow.keras.preprocessing import image\n",
    "import matplotlib.image as img\n",
    "import matplotlib.pyplot as plt\n",
    "import matplotlib.cm as cm\n",
    "import pandas as pd\n",
    "import numpy as np\n",
    "import sys\n",
    "import cv2"
   ]
  },
  {
   "cell_type": "code",
   "execution_count": 4,
   "id": "acf4cf2b-39a9-4ba9-b73e-f407bc9e6b56",
   "metadata": {},
   "outputs": [],
   "source": [
    "import csv\n",
    "import os"
   ]
  },
  {
   "cell_type": "code",
   "execution_count": 6,
   "id": "40302e04-b8cf-4cf6-8497-141f37f8665d",
   "metadata": {},
   "outputs": [],
   "source": [
    "#------------------ 하이퍼 파라매터 -------------------#\n",
    "IMG_SIZE = 512\n",
    "w, h = (512, 512)\n",
    "#------------------ 비디오 소스, 경로 -----------------#\n",
    "filename = \"./KSL_video_sample/01/00_01.mp4\"\n",
    "# filename =\"./frame/frame1.png\" \n",
    "# os.getcwd()\n"
   ]
  },
  {
   "cell_type": "code",
   "execution_count": 25,
   "id": "8bb90493-ab2c-4fba-9bbd-5b34324b11fd",
   "metadata": {},
   "outputs": [
    {
     "name": "stdout",
     "output_type": "stream",
     "text": [
      "0\n",
      "2\n",
      "4\n",
      "6\n",
      "8\n"
     ]
    }
   ],
   "source": [
    "for i in range(0, 10, 2):\n",
    "    print(i)"
   ]
  },
  {
   "cell_type": "code",
   "execution_count": 22,
   "id": "b1d98fc6-d645-42aa-abd2-9c99d48aa1d6",
   "metadata": {},
   "outputs": [],
   "source": [
    "capture = cv2.VideoCapture(filename)\n",
    "\n",
    "while cv2.waitKey(10) < 0:\n",
    "    if capture.get(cv2.CAP_PROP_POS_FRAMES) == capture.get(cv2.CAP_PROP_FRAME_COUNT):\n",
    "        capture.set(cv2.CAP_PROP_POS_FRAMES, 0)\n",
    "\n",
    "    ret, frame = capture.read()\n",
    "#     print(cv2.CAP_PROP_POS_MSEC)\n",
    "    cv2.imshow(\"VideoFrame\", frame)\n",
    "    \n",
    "capture.release()\n",
    "cv2.destroyAllWindows()"
   ]
  },
  {
   "cell_type": "code",
   "execution_count": null,
   "id": "7cdb63a5-f13b-4fb6-9e5d-09706240c28e",
   "metadata": {},
   "outputs": [],
   "source": [
    "import mediapipe as mp\n",
    "mp_drawing = mp.solutions.drawing_utils\n",
    "mp_holistic = mp.solutions.holistic"
   ]
  },
  {
   "cell_type": "code",
   "execution_count": null,
   "id": "fe2da696-2bfa-41de-af46-8dac11b5b6f0",
   "metadata": {},
   "outputs": [],
   "source": [
    "#--------- 이미지 경로 ------------#\n",
    "frame = cv2.imread(filename)\n",
    "####################################\n",
    "\n",
    "with mp_holistic.Holistic(min_detection_confidence=0.5, min_tracking_confidence=0.5) as holistic:\n",
    "    \n",
    "    image = cv2.cvtColor(frame, cv2.COLOR_BGR2RGB)\n",
    "    image = cv2.resize(image,(IMG_SIZE,IMG_SIZE))\n",
    "    image.flags.writeable = False        \n",
    "    \n",
    "    results = holistic.process(image)\n",
    "    \n",
    "    image.flags.writeable = True   \n",
    "    image = cv2.cvtColor(image, cv2.COLOR_RGB2BGR)\n",
    "    \n",
    "     # 1. Draw face landmarks\n",
    "    mp_drawing.draw_landmarks(image, results.face_landmarks, mp_holistic.FACE_CONNECTIONS, \n",
    "                             mp_drawing.DrawingSpec(color=(80,110,10), thickness=1, circle_radius=1),\n",
    "                             mp_drawing.DrawingSpec(color=(80,256,121), thickness=1, circle_radius=1)\n",
    "                             )\n",
    "\n",
    "    # 2. Right hand\n",
    "    mp_drawing.draw_landmarks(image, results.right_hand_landmarks, mp_holistic.HAND_CONNECTIONS, \n",
    "                             mp_drawing.DrawingSpec(color=(80,22,10), thickness=2, circle_radius=4),\n",
    "                             mp_drawing.DrawingSpec(color=(80,44,121), thickness=2, circle_radius=2)\n",
    "                             )\n",
    "\n",
    "    # 3. Left Hand\n",
    "    mp_drawing.draw_landmarks(image, results.left_hand_landmarks, mp_holistic.HAND_CONNECTIONS, \n",
    "                             mp_drawing.DrawingSpec(color=(121,22,76), thickness=2, circle_radius=4),\n",
    "                             mp_drawing.DrawingSpec(color=(121,44,250), thickness=2, circle_radius=2)\n",
    "                             )\n",
    "\n",
    "    # 4. Pose Detections\n",
    "    mp_drawing.draw_landmarks(image, results.pose_landmarks, mp_holistic.POSE_CONNECTIONS, \n",
    "                             mp_drawing.DrawingSpec(color=(245,117,66), thickness=2, circle_radius=4),\n",
    "                             mp_drawing.DrawingSpec(color=(245,66,230), thickness=2, circle_radius=2)\n",
    "                             )\n",
    "    cv2.imshow(\"asdf\",image)\n",
    "    cv2.waitKey()\n",
    "    cv2.destroyAllWindows()\n",
    "    \n",
    "    "
   ]
  }
 ],
 "metadata": {
  "kernelspec": {
   "display_name": "Python 3",
   "language": "python",
   "name": "python3"
  },
  "language_info": {
   "codemirror_mode": {
    "name": "ipython",
    "version": 3
   },
   "file_extension": ".py",
   "mimetype": "text/x-python",
   "name": "python",
   "nbconvert_exporter": "python",
   "pygments_lexer": "ipython3",
   "version": "3.7.10"
  }
 },
 "nbformat": 4,
 "nbformat_minor": 5
}
