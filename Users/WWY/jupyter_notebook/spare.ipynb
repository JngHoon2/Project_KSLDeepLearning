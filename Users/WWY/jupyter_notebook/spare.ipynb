{
 "cells": [
  {
   "cell_type": "markdown",
   "id": "2629ec39-6b9b-4815-b15c-9a95a572a769",
   "metadata": {},
   "source": [
    "## 개별 프레임들에 대해 holistic 적용 후 값 구하기 (validation 데이터를 학습하기 위함)\n",
    "- 실제 캠켜놓고 test데이터 만들 때에는 영상에서 바로 값 추출하여 사용"
   ]
  },
  {
   "cell_type": "markdown",
   "id": "73b70d6b-a335-4305-b7ec-86969aef8edb",
   "metadata": {},
   "source": [
    "### 비디오를 프레임단위 이미지로 변환\n",
    "- os.chdir('경로') #현재 작업 디렉토리 변경\n",
    "- os.getcwd() #현재 작업중인 디렉토리 확인\n",
    "    - 'C:\\\\Users\\\\won\\\\Desktop\\\\handproj\\\\노트북 환경\\\\run'"
   ]
  },
  {
   "cell_type": "code",
   "execution_count": null,
   "id": "8a189898-8ab3-4b79-9f8b-e0b280d2677b",
   "metadata": {},
   "outputs": [],
   "source": [
    "import cv2\n",
    "\n",
    "img_startPath = \"./frameImg\" #영상들에 대한 이미지를 저장하는 폴더생성\n",
    "\n",
    "\n",
    "# print(categories)\n",
    "# Opens the Video file\n",
    "\n",
    "\n",
    "\n",
    "for idx, file in enumerate(filepath_list):\n",
    "    \n",
    "\n",
    "    cap = cv2.VideoCapture(filepath_list[0])\n",
    "#     cap = cv2.VideoCapture(file)\n",
    "    for i in range(len(categories)):\n",
    "            if not os.path.exists(os.path.join(img_startPath, categories[i])):\n",
    "                os.makedirs(f'{img_startPath}/{categories[i]}/')\n",
    "\n",
    "    i=0\n",
    "    while(cap.isOpened()):\n",
    "        \n",
    "        ret, frame = cap.read()\n",
    "        if ret == False:\n",
    "            break\n",
    "        cv2.imwrite(f'{img_startPath}/{categories[0]}/{i}'+\".jpg\",frame)\n",
    "        i+=1\n",
    " \n",
    "cap.release()\n",
    "cv2.destroyAllWindows()"
   ]
  },
  {
   "cell_type": "markdown",
   "id": "f78f3402-0336-431c-bcac-df0462f80cc8",
   "metadata": {},
   "source": [
    "## 프레임 저장하는 코드"
   ]
  },
  {
   "cell_type": "code",
   "execution_count": null,
   "id": "f50482cf-60b0-4d0a-8485-177261f22a7d",
   "metadata": {},
   "outputs": [],
   "source": [
    "imagePath = './frameImg'\n",
    "from  glob import glob\n",
    "\n",
    "fc = fcm.fileControl(imagePath)\n",
    "categories = os.listdir(imagePath) # 분류된 폴더명 저장\n",
    "\n",
    "imgpath_list = [] #파일 경로 저장 리스트, 실질적으로 영상을 열기위한 경로로 사용\n",
    "class_size_list = [] #각 클래스별 파일(영상) 개수\n",
    "\n",
    "categorie_files = [len(categories)]\n",
    "for i in range(len(categories)):\n",
    "    file_list = fc.makeFileList(i)    #의미로 넘버링된 동영상 폴더 접근\n",
    "    class_size_list.append(len(file_list)) #각 클래스별 파일 수 저장\n",
    "    \n",
    "    for j, file in enumerate(file_list):\n",
    "        filepath = fc.getfilepath(file)   #동영상 하나하나의 경로 지정\n",
    "        imgpath_list.append(filepath)    #리스트에 동영상 경로 저장\n",
    "\n",
    "print(imgpath_list)"
   ]
  },
  {
   "cell_type": "code",
   "execution_count": null,
   "id": "669a9745-ad2b-4ad4-8a60-a7b913e5f30c",
   "metadata": {},
   "outputs": [],
   "source": [
    "#분할이미지를 값추출에사용\n",
    "static_image_mode=True) as holistic: \n",
    "    for idx, file in enumerate(imgpath_list):\n",
    "        if file == \".DS_Store\":\n",
    "            continue\n",
    "    #         imagePath = os.path.abspath(file) #파일의 절대경로\n",
    "        print(file)"
   ]
  }
 ],
 "metadata": {
  "kernelspec": {
   "display_name": "Python 3",
   "language": "python",
   "name": "python3"
  },
  "language_info": {
   "codemirror_mode": {
    "name": "ipython",
    "version": 3
   },
   "file_extension": ".py",
   "mimetype": "text/x-python",
   "name": "python",
   "nbconvert_exporter": "python",
   "pygments_lexer": "ipython3",
   "version": "3.7.10"
  }
 },
 "nbformat": 4,
 "nbformat_minor": 5
}
