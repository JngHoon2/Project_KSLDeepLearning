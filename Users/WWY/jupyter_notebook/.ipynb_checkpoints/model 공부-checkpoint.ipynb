{
 "cells": [
  {
   "cell_type": "code",
   "execution_count": 4,
   "id": "0ba60b92-c992-49f5-849f-9e130339b51c",
   "metadata": {},
   "outputs": [],
   "source": [
    "import cv2\n",
    "import numpy as np\n",
    "import pandas as pd"
   ]
  },
  {
   "cell_type": "code",
   "execution_count": 6,
   "id": "6738a5cc-e9f3-408c-9594-afa6b041202e",
   "metadata": {},
   "outputs": [],
   "source": [
    "def load_video(video_path):\n",
    "    video_frames = []\n",
    "    cap = cv2.VideoCapture(video_path)\n",
    "    while True:\n",
    "        ret, frame = cap.read()\n",
    "        if ret == True:\n",
    "              video_frames.append(preprocess(frame))\n",
    "        else:\n",
    "            break\n",
    "    cap.release()\n",
    "    video_frames = select_frames(video_frames)\n",
    "    if len(video_frames) != frames:\n",
    "        print('short_video ',video_path, len(video_frames))\n",
    "    \n",
    "    return np.array(video_frames)\n",
    "\n",
    "def select_frames(video_frames):\n",
    "    selected_frames = []\n",
    "    if len(video_frames) > frames: #전체 비디오 프레임 수가 현재 프레임보다 큰 동안\n",
    "        fn = len(video_frames)//frames #나누고 몫 버린 값\n",
    "        f_num = 0\n",
    "        for f in video_frames:\n",
    "            if len(selected_frames) < frames:\n",
    "                if f_num % fn == 0:\n",
    "                    selected_frames.append(f)\n",
    "            f_num += 1\n",
    "    else:\n",
    "        selected_frames = video_frames\n",
    "    return selected_frames "
   ]
  },
  {
   "cell_type": "code",
   "execution_count": 31,
   "id": "c9b2c35a-daff-41f7-a19c-beafb184e029",
   "metadata": {},
   "outputs": [],
   "source": [
    "def slash_compare(samples, batchsize):\n",
    "    a = samples // batchsize\n",
    "    b = samples / batchsize\n",
    "    return a, b\n",
    "\n",
    "def round_batch(samples, batch_size):\n",
    "    if samples//batch_size < samples/batch_size: # \n",
    "        batches = (samples//batch_size) + 1\n",
    "        print(\"samples // batch_size < samples / batch_size\")\n",
    "    else:\n",
    "        batches = samples//batch_size\n",
    "        print(\"samples // batch_size > samples / batch_size\")\n",
    "        \n",
    "    return batches\n"
   ]
  },
  {
   "cell_type": "code",
   "execution_count": 34,
   "id": "8b2115c9-6aa6-4701-935c-ff7461fe677c",
   "metadata": {},
   "outputs": [
    {
     "name": "stdout",
     "output_type": "stream",
     "text": [
      "3 3.3333333333333335\n",
      "sample // batch_size < samples / batch_size\n",
      "4\n"
     ]
    }
   ],
   "source": [
    "samples = 100; batch_size = 30\n",
    "\n",
    "result_a, result_b = slash_compare(100, 30)\n",
    "print(result_a, result_b)\n",
    "print(round_batch(samples, batch_size))\n"
   ]
  },
  {
   "cell_type": "code",
   "execution_count": 43,
   "id": "d95e39d6-1e71-492d-b7dc-08b0fa5a3d03",
   "metadata": {},
   "outputs": [
    {
     "name": "stdout",
     "output_type": "stream",
     "text": [
      "3 3.225806451612903\n",
      "sample // batch_size < samples / batch_size\n",
      "4\n"
     ]
    }
   ],
   "source": [
    "samples = 100; batch_size = 31\n",
    "\n",
    "result_a, result_b = slash_compare(samples, batch_size)\n",
    "print(result_a, result_b)\n",
    "print(round_batch(samples, batch_size))\n"
   ]
  }
 ],
 "metadata": {
  "kernelspec": {
   "display_name": "Python 3",
   "language": "python",
   "name": "python3"
  },
  "language_info": {
   "codemirror_mode": {
    "name": "ipython",
    "version": 3
   },
   "file_extension": ".py",
   "mimetype": "text/x-python",
   "name": "python",
   "nbconvert_exporter": "python",
   "pygments_lexer": "ipython3",
   "version": "3.7.10"
  }
 },
 "nbformat": 4,
 "nbformat_minor": 5
}
